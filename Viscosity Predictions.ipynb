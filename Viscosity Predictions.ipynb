{
 "cells": [
  {
   "cell_type": "code",
   "execution_count": 12,
   "metadata": {},
   "outputs": [],
   "source": [
    "#importing the necessary libraries\n",
    "import pandas as pd\n",
    "import numpy as np\n",
    "import matplotlib.pyplot as plt\n",
    "import seaborn as sns\n",
    "\n",
    "from sklearn.ensemble import GradientBoostingRegressor, RandomForestRegressor, AdaBoostRegressor\n",
    "from sklearn.metrics import mean_squared_error, mean_absolute_error, r2_score\n",
    "\n",
    "from sklearn.model_selection import GridSearchCV\n",
    "from math import sqrt\n",
    "import pickle"
   ]
  },
  {
   "cell_type": "code",
   "execution_count": 2,
   "metadata": {},
   "outputs": [],
   "source": [
    "data = pd.read_csv('Data review - Sheet1.csv')"
   ]
  },
  {
   "cell_type": "code",
   "execution_count": 3,
   "metadata": {},
   "outputs": [
    {
     "data": {
      "text/html": [
       "<div>\n",
       "<style scoped>\n",
       "    .dataframe tbody tr th:only-of-type {\n",
       "        vertical-align: middle;\n",
       "    }\n",
       "\n",
       "    .dataframe tbody tr th {\n",
       "        vertical-align: top;\n",
       "    }\n",
       "\n",
       "    .dataframe thead th {\n",
       "        text-align: right;\n",
       "    }\n",
       "</style>\n",
       "<table border=\"1\" class=\"dataframe\">\n",
       "  <thead>\n",
       "    <tr style=\"text-align: right;\">\n",
       "      <th></th>\n",
       "      <th>Unnamed: 0</th>\n",
       "      <th>DEPTH (FT AH)</th>\n",
       "      <th>SG (Oil Gravity) @ 60/60F</th>\n",
       "      <th>API</th>\n",
       "      <th>Viscosity @ SC, cSt</th>\n",
       "      <th>Temp (deg F, res)</th>\n",
       "      <th>Viscosity @ RC, cp</th>\n",
       "      <th>Pressure</th>\n",
       "      <th>Uob, cp</th>\n",
       "      <th>Uo, cp</th>\n",
       "    </tr>\n",
       "  </thead>\n",
       "  <tbody>\n",
       "    <tr>\n",
       "      <th>0</th>\n",
       "      <td>NaN</td>\n",
       "      <td>6989</td>\n",
       "      <td>0.95</td>\n",
       "      <td>17.8</td>\n",
       "      <td>121.00</td>\n",
       "      <td>126</td>\n",
       "      <td>13.0</td>\n",
       "      <td>2890</td>\n",
       "      <td>14.0</td>\n",
       "      <td>14.0</td>\n",
       "    </tr>\n",
       "    <tr>\n",
       "      <th>1</th>\n",
       "      <td>NaN</td>\n",
       "      <td>6989</td>\n",
       "      <td>0.95</td>\n",
       "      <td>17.8</td>\n",
       "      <td>112.60</td>\n",
       "      <td>126</td>\n",
       "      <td>13.0</td>\n",
       "      <td>2890</td>\n",
       "      <td>14.0</td>\n",
       "      <td>14.0</td>\n",
       "    </tr>\n",
       "    <tr>\n",
       "      <th>2</th>\n",
       "      <td>NaN</td>\n",
       "      <td>6989</td>\n",
       "      <td>0.95</td>\n",
       "      <td>18.3</td>\n",
       "      <td>127.30</td>\n",
       "      <td>126</td>\n",
       "      <td>14.0</td>\n",
       "      <td>2890</td>\n",
       "      <td>15.0</td>\n",
       "      <td>15.0</td>\n",
       "    </tr>\n",
       "    <tr>\n",
       "      <th>3</th>\n",
       "      <td>NaN</td>\n",
       "      <td>6994</td>\n",
       "      <td>0.95</td>\n",
       "      <td>18.0</td>\n",
       "      <td>114.60</td>\n",
       "      <td>126</td>\n",
       "      <td>13.0</td>\n",
       "      <td>2890</td>\n",
       "      <td>14.0</td>\n",
       "      <td>14.0</td>\n",
       "    </tr>\n",
       "    <tr>\n",
       "      <th>4</th>\n",
       "      <td>NaN</td>\n",
       "      <td>6994</td>\n",
       "      <td>0.95</td>\n",
       "      <td>17.9</td>\n",
       "      <td>113.90</td>\n",
       "      <td>126</td>\n",
       "      <td>13.0</td>\n",
       "      <td>2890</td>\n",
       "      <td>14.0</td>\n",
       "      <td>14.0</td>\n",
       "    </tr>\n",
       "    <tr>\n",
       "      <th>...</th>\n",
       "      <td>...</td>\n",
       "      <td>...</td>\n",
       "      <td>...</td>\n",
       "      <td>...</td>\n",
       "      <td>...</td>\n",
       "      <td>...</td>\n",
       "      <td>...</td>\n",
       "      <td>...</td>\n",
       "      <td>...</td>\n",
       "      <td>...</td>\n",
       "    </tr>\n",
       "    <tr>\n",
       "      <th>357</th>\n",
       "      <td>NaN</td>\n",
       "      <td>9820</td>\n",
       "      <td>0.91</td>\n",
       "      <td>23.3</td>\n",
       "      <td>17.32</td>\n",
       "      <td>171</td>\n",
       "      <td>5.1</td>\n",
       "      <td>4200</td>\n",
       "      <td>11.0</td>\n",
       "      <td>25.0</td>\n",
       "    </tr>\n",
       "    <tr>\n",
       "      <th>358</th>\n",
       "      <td>NaN</td>\n",
       "      <td>9820</td>\n",
       "      <td>0.92</td>\n",
       "      <td>22.5</td>\n",
       "      <td>20.04</td>\n",
       "      <td>171</td>\n",
       "      <td>5.9</td>\n",
       "      <td>4200</td>\n",
       "      <td>12.0</td>\n",
       "      <td>28.0</td>\n",
       "    </tr>\n",
       "    <tr>\n",
       "      <th>359</th>\n",
       "      <td>NaN</td>\n",
       "      <td>10544</td>\n",
       "      <td>0.82</td>\n",
       "      <td>40.2</td>\n",
       "      <td>2.82</td>\n",
       "      <td>191</td>\n",
       "      <td>0.9</td>\n",
       "      <td>4500</td>\n",
       "      <td>2.1</td>\n",
       "      <td>6.7</td>\n",
       "    </tr>\n",
       "    <tr>\n",
       "      <th>360</th>\n",
       "      <td>NaN</td>\n",
       "      <td>10135</td>\n",
       "      <td>0.83</td>\n",
       "      <td>38.9</td>\n",
       "      <td>2.86</td>\n",
       "      <td>191</td>\n",
       "      <td>0.9</td>\n",
       "      <td>4500</td>\n",
       "      <td>1.0</td>\n",
       "      <td>1.2</td>\n",
       "    </tr>\n",
       "    <tr>\n",
       "      <th>361</th>\n",
       "      <td>NaN</td>\n",
       "      <td>10551</td>\n",
       "      <td>0.83</td>\n",
       "      <td>39.2</td>\n",
       "      <td>8.94</td>\n",
       "      <td>191</td>\n",
       "      <td>0.9</td>\n",
       "      <td>4500</td>\n",
       "      <td>2.0</td>\n",
       "      <td>12.8</td>\n",
       "    </tr>\n",
       "  </tbody>\n",
       "</table>\n",
       "<p>362 rows × 10 columns</p>\n",
       "</div>"
      ],
      "text/plain": [
       "     Unnamed: 0  DEPTH (FT AH)  SG (Oil Gravity) @ 60/60F   API  \\\n",
       "0           NaN           6989                       0.95  17.8   \n",
       "1           NaN           6989                       0.95  17.8   \n",
       "2           NaN           6989                       0.95  18.3   \n",
       "3           NaN           6994                       0.95  18.0   \n",
       "4           NaN           6994                       0.95  17.9   \n",
       "..          ...            ...                        ...   ...   \n",
       "357         NaN           9820                       0.91  23.3   \n",
       "358         NaN           9820                       0.92  22.5   \n",
       "359         NaN          10544                       0.82  40.2   \n",
       "360         NaN          10135                       0.83  38.9   \n",
       "361         NaN          10551                       0.83  39.2   \n",
       "\n",
       "     Viscosity @ SC, cSt  Temp (deg F, res)  Viscosity @ RC, cp  Pressure  \\\n",
       "0                 121.00                126                13.0      2890   \n",
       "1                 112.60                126                13.0      2890   \n",
       "2                 127.30                126                14.0      2890   \n",
       "3                 114.60                126                13.0      2890   \n",
       "4                 113.90                126                13.0      2890   \n",
       "..                   ...                ...                 ...       ...   \n",
       "357                17.32                171                 5.1      4200   \n",
       "358                20.04                171                 5.9      4200   \n",
       "359                 2.82                191                 0.9      4500   \n",
       "360                 2.86                191                 0.9      4500   \n",
       "361                 8.94                191                 0.9      4500   \n",
       "\n",
       "     Uob, cp  Uo, cp  \n",
       "0       14.0    14.0  \n",
       "1       14.0    14.0  \n",
       "2       15.0    15.0  \n",
       "3       14.0    14.0  \n",
       "4       14.0    14.0  \n",
       "..       ...     ...  \n",
       "357     11.0    25.0  \n",
       "358     12.0    28.0  \n",
       "359      2.1     6.7  \n",
       "360      1.0     1.2  \n",
       "361      2.0    12.8  \n",
       "\n",
       "[362 rows x 10 columns]"
      ]
     },
     "execution_count": 3,
     "metadata": {},
     "output_type": "execute_result"
    }
   ],
   "source": [
    "data"
   ]
  },
  {
   "cell_type": "code",
   "execution_count": 4,
   "metadata": {},
   "outputs": [
    {
     "data": {
      "text/plain": [
       "Index(['Unnamed: 0', 'DEPTH (FT AH)', 'SG (Oil Gravity) @ 60/60F', 'API',\n",
       "       'Viscosity @ SC, cSt', 'Temp (deg F, res)', 'Viscosity @ RC, cp',\n",
       "       'Pressure', 'Uob, cp', 'Uo, cp'],\n",
       "      dtype='object')"
      ]
     },
     "execution_count": 4,
     "metadata": {},
     "output_type": "execute_result"
    }
   ],
   "source": [
    "data.columns"
   ]
  },
  {
   "cell_type": "code",
   "execution_count": 5,
   "metadata": {},
   "outputs": [],
   "source": [
    "data = data.drop(['Unnamed: 0', 'Uo, cp'], axis = 1)"
   ]
  },
  {
   "cell_type": "code",
   "execution_count": 6,
   "metadata": {
    "scrolled": true
   },
   "outputs": [
    {
     "data": {
      "text/html": [
       "<div>\n",
       "<style scoped>\n",
       "    .dataframe tbody tr th:only-of-type {\n",
       "        vertical-align: middle;\n",
       "    }\n",
       "\n",
       "    .dataframe tbody tr th {\n",
       "        vertical-align: top;\n",
       "    }\n",
       "\n",
       "    .dataframe thead th {\n",
       "        text-align: right;\n",
       "    }\n",
       "</style>\n",
       "<table border=\"1\" class=\"dataframe\">\n",
       "  <thead>\n",
       "    <tr style=\"text-align: right;\">\n",
       "      <th></th>\n",
       "      <th>DEPTH (FT AH)</th>\n",
       "      <th>SG (Oil Gravity) @ 60/60F</th>\n",
       "      <th>API</th>\n",
       "      <th>Viscosity @ SC, cSt</th>\n",
       "      <th>Temp (deg F, res)</th>\n",
       "      <th>Viscosity @ RC, cp</th>\n",
       "      <th>Pressure</th>\n",
       "      <th>Uob, cp</th>\n",
       "    </tr>\n",
       "  </thead>\n",
       "  <tbody>\n",
       "    <tr>\n",
       "      <th>0</th>\n",
       "      <td>6989</td>\n",
       "      <td>0.95</td>\n",
       "      <td>17.8</td>\n",
       "      <td>121.00</td>\n",
       "      <td>126</td>\n",
       "      <td>13.0</td>\n",
       "      <td>2890</td>\n",
       "      <td>14.0</td>\n",
       "    </tr>\n",
       "    <tr>\n",
       "      <th>1</th>\n",
       "      <td>6989</td>\n",
       "      <td>0.95</td>\n",
       "      <td>17.8</td>\n",
       "      <td>112.60</td>\n",
       "      <td>126</td>\n",
       "      <td>13.0</td>\n",
       "      <td>2890</td>\n",
       "      <td>14.0</td>\n",
       "    </tr>\n",
       "    <tr>\n",
       "      <th>2</th>\n",
       "      <td>6989</td>\n",
       "      <td>0.95</td>\n",
       "      <td>18.3</td>\n",
       "      <td>127.30</td>\n",
       "      <td>126</td>\n",
       "      <td>14.0</td>\n",
       "      <td>2890</td>\n",
       "      <td>15.0</td>\n",
       "    </tr>\n",
       "    <tr>\n",
       "      <th>3</th>\n",
       "      <td>6994</td>\n",
       "      <td>0.95</td>\n",
       "      <td>18.0</td>\n",
       "      <td>114.60</td>\n",
       "      <td>126</td>\n",
       "      <td>13.0</td>\n",
       "      <td>2890</td>\n",
       "      <td>14.0</td>\n",
       "    </tr>\n",
       "    <tr>\n",
       "      <th>4</th>\n",
       "      <td>6994</td>\n",
       "      <td>0.95</td>\n",
       "      <td>17.9</td>\n",
       "      <td>113.90</td>\n",
       "      <td>126</td>\n",
       "      <td>13.0</td>\n",
       "      <td>2890</td>\n",
       "      <td>14.0</td>\n",
       "    </tr>\n",
       "    <tr>\n",
       "      <th>...</th>\n",
       "      <td>...</td>\n",
       "      <td>...</td>\n",
       "      <td>...</td>\n",
       "      <td>...</td>\n",
       "      <td>...</td>\n",
       "      <td>...</td>\n",
       "      <td>...</td>\n",
       "      <td>...</td>\n",
       "    </tr>\n",
       "    <tr>\n",
       "      <th>357</th>\n",
       "      <td>9820</td>\n",
       "      <td>0.91</td>\n",
       "      <td>23.3</td>\n",
       "      <td>17.32</td>\n",
       "      <td>171</td>\n",
       "      <td>5.1</td>\n",
       "      <td>4200</td>\n",
       "      <td>11.0</td>\n",
       "    </tr>\n",
       "    <tr>\n",
       "      <th>358</th>\n",
       "      <td>9820</td>\n",
       "      <td>0.92</td>\n",
       "      <td>22.5</td>\n",
       "      <td>20.04</td>\n",
       "      <td>171</td>\n",
       "      <td>5.9</td>\n",
       "      <td>4200</td>\n",
       "      <td>12.0</td>\n",
       "    </tr>\n",
       "    <tr>\n",
       "      <th>359</th>\n",
       "      <td>10544</td>\n",
       "      <td>0.82</td>\n",
       "      <td>40.2</td>\n",
       "      <td>2.82</td>\n",
       "      <td>191</td>\n",
       "      <td>0.9</td>\n",
       "      <td>4500</td>\n",
       "      <td>2.1</td>\n",
       "    </tr>\n",
       "    <tr>\n",
       "      <th>360</th>\n",
       "      <td>10135</td>\n",
       "      <td>0.83</td>\n",
       "      <td>38.9</td>\n",
       "      <td>2.86</td>\n",
       "      <td>191</td>\n",
       "      <td>0.9</td>\n",
       "      <td>4500</td>\n",
       "      <td>1.0</td>\n",
       "    </tr>\n",
       "    <tr>\n",
       "      <th>361</th>\n",
       "      <td>10551</td>\n",
       "      <td>0.83</td>\n",
       "      <td>39.2</td>\n",
       "      <td>8.94</td>\n",
       "      <td>191</td>\n",
       "      <td>0.9</td>\n",
       "      <td>4500</td>\n",
       "      <td>2.0</td>\n",
       "    </tr>\n",
       "  </tbody>\n",
       "</table>\n",
       "<p>362 rows × 8 columns</p>\n",
       "</div>"
      ],
      "text/plain": [
       "     DEPTH (FT AH)  SG (Oil Gravity) @ 60/60F   API  Viscosity @ SC, cSt  \\\n",
       "0             6989                       0.95  17.8               121.00   \n",
       "1             6989                       0.95  17.8               112.60   \n",
       "2             6989                       0.95  18.3               127.30   \n",
       "3             6994                       0.95  18.0               114.60   \n",
       "4             6994                       0.95  17.9               113.90   \n",
       "..             ...                        ...   ...                  ...   \n",
       "357           9820                       0.91  23.3                17.32   \n",
       "358           9820                       0.92  22.5                20.04   \n",
       "359          10544                       0.82  40.2                 2.82   \n",
       "360          10135                       0.83  38.9                 2.86   \n",
       "361          10551                       0.83  39.2                 8.94   \n",
       "\n",
       "     Temp (deg F, res)  Viscosity @ RC, cp  Pressure  Uob, cp  \n",
       "0                  126                13.0      2890     14.0  \n",
       "1                  126                13.0      2890     14.0  \n",
       "2                  126                14.0      2890     15.0  \n",
       "3                  126                13.0      2890     14.0  \n",
       "4                  126                13.0      2890     14.0  \n",
       "..                 ...                 ...       ...      ...  \n",
       "357                171                 5.1      4200     11.0  \n",
       "358                171                 5.9      4200     12.0  \n",
       "359                191                 0.9      4500      2.1  \n",
       "360                191                 0.9      4500      1.0  \n",
       "361                191                 0.9      4500      2.0  \n",
       "\n",
       "[362 rows x 8 columns]"
      ]
     },
     "execution_count": 6,
     "metadata": {},
     "output_type": "execute_result"
    }
   ],
   "source": [
    "data"
   ]
  },
  {
   "cell_type": "code",
   "execution_count": 10,
   "metadata": {},
   "outputs": [
    {
     "name": "stdout",
     "output_type": "stream",
     "text": [
      "The Values of the error of Prof's with respect to the Truth values varies as follows \n",
      " 1. Mean Squared Error 44.25302099447514 \n",
      " 2. Mean Absolute Error 4.085524861878453 \n",
      " 3. The R2 Score 0.5585219623674234\n"
     ]
    }
   ],
   "source": [
    "#now to find the original eror between Prof's method and machine learning method\n",
    "mse_pre =  mean_squared_error(data[\"Uob, cp\"].values, data[\"Viscosity @ RC, cp\"].values)\n",
    "mae_pre = mean_absolute_error(data[\"Uob, cp\"].values, data[\"Viscosity @ RC, cp\"].values)\n",
    "r2_pre = r2_score(data[\"Uob, cp\"].values, data[\"Viscosity @ RC, cp\"].values)\n",
    "\n",
    "print(f\"The Values of the error of Prof's with respect to the Truth values varies as follows \\n 1. Mean Squared Error {mse_pre} \\n 2. Mean Absolute Error {mae_pre} \\n 3. The R2 Score {r2_pre}\")"
   ]
  },
  {
   "cell_type": "code",
   "execution_count": 8,
   "metadata": {},
   "outputs": [
    {
     "data": {
      "text/plain": [
       "(362, 6)"
      ]
     },
     "execution_count": 8,
     "metadata": {},
     "output_type": "execute_result"
    }
   ],
   "source": [
    "#make a copy of the data, rewrite a Gradient boosting algorithm using Grid search and get the \n",
    "#results and use it to do machine learning \n",
    "dataset = data.copy()\n",
    "dataset = dataset.drop(\"Viscosity @ RC, cp\", axis = 1)\n",
    "y = dataset[\"Uob, cp\"].values\n",
    "X = dataset.drop('Uob, cp', axis = 1).values\n",
    "X.shape"
   ]
  },
  {
   "cell_type": "code",
   "execution_count": 33,
   "metadata": {},
   "outputs": [],
   "source": [
    "estimator  = GradientBoostingRegressor(n_estimators = 120, random_state= 42)\n",
    "params  = {'n_estimators': np.arange(40, 300, 10), \"learning_rate\": np.arange(0.01, 0.1, 0.01), \"max_depth\" : [2, 3, 4, 5, 6, 7, 8, 9], \"min_samples_leaf\": np.arange(1, 10), \"max_features\": [2, 3, 0.5, 'auto','sqrt', 'log2', None]}"
   ]
  },
  {
   "cell_type": "code",
   "execution_count": 34,
   "metadata": {},
   "outputs": [
    {
     "data": {
      "text/plain": [
       "GridSearchCV(cv=5, error_score=nan,\n",
       "             estimator=GradientBoostingRegressor(alpha=0.9, ccp_alpha=0.0,\n",
       "                                                 criterion='friedman_mse',\n",
       "                                                 init=None, learning_rate=0.1,\n",
       "                                                 loss='ls', max_depth=3,\n",
       "                                                 max_features=None,\n",
       "                                                 max_leaf_nodes=None,\n",
       "                                                 min_impurity_decrease=0.0,\n",
       "                                                 min_impurity_split=None,\n",
       "                                                 min_samples_leaf=1,\n",
       "                                                 min_samples_split=2,\n",
       "                                                 min_weight_fraction_leaf=0.0,\n",
       "                                                 n_estimators=120,\n",
       "                                                 n_iter_n...\n",
       "                         'max_depth': [2, 3, 4, 5, 6, 7, 8, 9],\n",
       "                         'max_features': [2, 3, 0.5, 'auto', 'sqrt', 'log2',\n",
       "                                          None],\n",
       "                         'min_samples_leaf': array([1, 2, 3, 4, 5, 6, 7, 8, 9]),\n",
       "                         'n_estimators': array([ 40,  50,  60,  70,  80,  90, 100, 110, 120, 130, 140, 150, 160,\n",
       "       170, 180, 190, 200, 210, 220, 230, 240, 250, 260, 270, 280, 290])},\n",
       "             pre_dispatch='2*n_jobs', refit=True, return_train_score=False,\n",
       "             scoring='neg_mean_squared_error', verbose=0)"
      ]
     },
     "execution_count": 34,
     "metadata": {},
     "output_type": "execute_result"
    }
   ],
   "source": [
    "gridsearch = GridSearchCV(estimator=estimator, cv=5, param_grid = params, n_jobs = -1, scoring= \"neg_mean_squared_error\")\n",
    "gridsearch.fit(X, y)"
   ]
  },
  {
   "cell_type": "code",
   "execution_count": 35,
   "metadata": {},
   "outputs": [
    {
     "data": {
      "text/plain": [
       "{'learning_rate': 0.060000000000000005,\n",
       " 'max_depth': 3,\n",
       " 'max_features': 3,\n",
       " 'min_samples_leaf': 3,\n",
       " 'n_estimators': 290}"
      ]
     },
     "execution_count": 35,
     "metadata": {},
     "output_type": "execute_result"
    }
   ],
   "source": [
    "gridsearch.best_params_"
   ]
  },
  {
   "cell_type": "code",
   "execution_count": 37,
   "metadata": {},
   "outputs": [
    {
     "data": {
      "text/plain": [
       "0.1266669995766966"
      ]
     },
     "execution_count": 37,
     "metadata": {},
     "output_type": "execute_result"
    }
   ],
   "source": [
    "mean_squared_error(y, gridsearch.predict(X))"
   ]
  },
  {
   "cell_type": "code",
   "execution_count": 40,
   "metadata": {},
   "outputs": [
    {
     "data": {
      "text/plain": [
       "GradientBoostingRegressor(alpha=0.9, ccp_alpha=0.0, criterion='friedman_mse',\n",
       "                          init=None, learning_rate=0.060000000000000005,\n",
       "                          loss='ls', max_depth=3, max_features=3,\n",
       "                          max_leaf_nodes=None, min_impurity_decrease=0.0,\n",
       "                          min_impurity_split=None, min_samples_leaf=3,\n",
       "                          min_samples_split=2, min_weight_fraction_leaf=0.0,\n",
       "                          n_estimators=290, n_iter_no_change=None,\n",
       "                          presort='deprecated', random_state=42, subsample=1.0,\n",
       "                          tol=0.0001, validation_fraction=0.1, verbose=0,\n",
       "                          warm_start=False)"
      ]
     },
     "execution_count": 40,
     "metadata": {},
     "output_type": "execute_result"
    }
   ],
   "source": [
    "gridsearch.best_estimator_"
   ]
  },
  {
   "cell_type": "code",
   "execution_count": 41,
   "metadata": {},
   "outputs": [
    {
     "data": {
      "text/plain": [
       "GridSearchCV(cv=5, error_score=nan,\n",
       "             estimator=GradientBoostingRegressor(alpha=0.9, ccp_alpha=0.0,\n",
       "                                                 criterion='friedman_mse',\n",
       "                                                 init=None, learning_rate=0.1,\n",
       "                                                 loss='ls', max_depth=3,\n",
       "                                                 max_features=None,\n",
       "                                                 max_leaf_nodes=None,\n",
       "                                                 min_impurity_decrease=0.0,\n",
       "                                                 min_impurity_split=None,\n",
       "                                                 min_samples_leaf=1,\n",
       "                                                 min_samples_split=2,\n",
       "                                                 min_weight_fraction_leaf=0.0,\n",
       "                                                 n_estimators=120,\n",
       "                                                 n_iter_n...\n",
       "                         'max_depth': [2, 3, 4, 5, 6, 7, 8, 9],\n",
       "                         'max_features': [2, 3, 0.5, 'auto', 'sqrt', 'log2',\n",
       "                                          None],\n",
       "                         'min_samples_leaf': array([1, 2, 3, 4, 5, 6, 7, 8, 9]),\n",
       "                         'n_estimators': array([ 40,  50,  60,  70,  80,  90, 100, 110, 120, 130, 140, 150, 160,\n",
       "       170, 180, 190, 200, 210, 220, 230, 240, 250, 260, 270, 280, 290])},\n",
       "             pre_dispatch='2*n_jobs', refit=True, return_train_score=False,\n",
       "             scoring='neg_mean_squared_error', verbose=0)"
      ]
     },
     "execution_count": 41,
     "metadata": {},
     "output_type": "execute_result"
    }
   ],
   "source": [
    "gridsearch"
   ]
  },
  {
   "cell_type": "code",
   "execution_count": 42,
   "metadata": {},
   "outputs": [],
   "source": [
    "#saving the model in a pickle file\n",
    "file_name = \"grad_boost.pkl\"\n",
    "with open(file_name, 'wb') as file:\n",
    "    pickle.dump(gridsearch.best_estimator_, file)"
   ]
  },
  {
   "cell_type": "code",
   "execution_count": 11,
   "metadata": {},
   "outputs": [
    {
     "name": "stdout",
     "output_type": "stream",
     "text": [
      "The Values of the error of Gradient Boosting with respect to the Truth values varies as follows \n",
      " 1. Mean Squared Error 0.1266669995766966 \n",
      " 2. Mean Absolute Error 0.23132209008488908 \n",
      " 3. The R2 Score 0.9987363416745513\n"
     ]
    }
   ],
   "source": [
    "#loading and predicting the model\n",
    "gridsearch =  pickle.load(open(\"grad_boost.pkl\", \"rb\"))\n",
    "mse_grid = mean_squared_error(y, gridsearch.predict(X))\n",
    "mae_grid = mean_absolute_error(y, gridsearch.predict(X))\n",
    "r2_grid = r2_score(y, gridsearch.predict(X))\n",
    "print(f\"The Values of the error of Gradient Boosting with respect to the Truth values varies as follows \\n 1. Mean Squared Error {mse_grid} \\n 2. Mean Absolute Error {mae_grid} \\n 3. The R2 Score {r2_grid}\")"
   ]
  },
  {
   "cell_type": "code",
   "execution_count": null,
   "metadata": {},
   "outputs": [],
   "source": [
    "#now to prepare a RandomForest regressor\n",
    "params_rf  = {'n_estimators': np.arange(40, 300, 10), \"max_depth\" : [2, 3, 4, 5, 6, 7, 8, 9], \"min_samples_leaf\": np.arange(1, 10), \"max_features\": [2, 3, 0.5, 'auto','sqrt', 'log2', None]}\n",
    "estimator_rf = RandomForestRegressor(random_state = 42)\n",
    "gridsearch_rf = GridSearchCV(estimator=estimator_rf, cv=5, param_grid = params_rf, n_jobs = -1, scoring= \"neg_mean_squared_error\")\n",
    "gridsearch_rf.fit(X, y)"
   ]
  },
  {
   "cell_type": "code",
   "execution_count": null,
   "metadata": {},
   "outputs": [],
   "source": [
    "#now to get the best params\n",
    "gridsearch_rf.best_params_"
   ]
  },
  {
   "cell_type": "code",
   "execution_count": null,
   "metadata": {},
   "outputs": [],
   "source": [
    "#saving model and loading into the disk space\n",
    "file_name = \"random_foreest.pkl\"\n",
    "with open(file_name, 'wb') as file:\n",
    "    pickle.dump(gridsearch_rf.best_estimator_, file)\n",
    "    \n",
    "#loading and predicting the model\n",
    "gridsearch_rf =  pickle.load(open(\"random_forest.pkl\", \"rb\"))\n",
    "mse_forest = mean_squared_error(y, gridsearch_rf.predict(X))\n",
    "mae_forest = mean_absolute_error(y, gridsearch_rf.predict(X))\n",
    "r2_forest = r2_score(y, gridsearch_rf.predict(X))\n",
    "print(f\"The Values of the error of Random Forest with respect to the Truth values varies as follows \\n 1. Mean Squared Error {mse_forest} \\n 2. Mean Absolute Error {mae_forest} \\n 3. The R2 Score {r2_forest}\")"
   ]
  },
  {
   "cell_type": "code",
   "execution_count": null,
   "metadata": {},
   "outputs": [],
   "source": [
    "#now to prepare AdaBoost\n",
    "estimator_ada = AdaBoostRegressor(random_state = 42)\n",
    "params_ada = {'n_estimators': np.arange(40, 300, 10), \"learning_rate\": np.arange(0.01, 0.1, 0.01), \"loss\": [\"linear\", \"square\", \"exponential\"]}\n",
    "gridsearch_ada = GridSearchCV(estimator=estimator_ada, cv=5, param_grid = params_ada, n_jobs = -1, scoring= \"neg_mean_squared_error\")\n",
    "gridsearch_ada.fit(X, y)"
   ]
  },
  {
   "cell_type": "code",
   "execution_count": null,
   "metadata": {},
   "outputs": [],
   "source": [
    "gridsearch_ada.best_params_"
   ]
  },
  {
   "cell_type": "code",
   "execution_count": null,
   "metadata": {},
   "outputs": [],
   "source": [
    "#saving model and loading into the disk space\n",
    "file_name = \"ada_boost.pkl\"\n",
    "with open(file_name, 'wb') as file:\n",
    "    pickle.dump(gridsearch_ada.best_estimator_, file)\n",
    "    \n",
    "#loading and predicting the model\n",
    "gridsearch_ada =  pickle.load(open(\"ada_boost.pkl\", \"rb\"))\n",
    "mse_ada = mean_squared_error(y, gridsearch_ada.predict(X))\n",
    "mae_ada = mean_absolute_error(y, gridsearch_ada.predict(X))\n",
    "r2_ada = r2_score(y, gridsearch_ada.predict(X))\n",
    "print(f\"The Values of the error of Adaptive Boosting(AdaBoost) with respect to the Truth values varies as follows \\n 1. Mean Squared Error {mse_ada} \\n 2. Mean Absolute Error {mae_ada} \\n 3. The R2 Score {r2_ada}\")"
   ]
  },
  {
   "cell_type": "code",
   "execution_count": null,
   "metadata": {},
   "outputs": [],
   "source": []
  }
 ],
 "metadata": {
  "kernelspec": {
   "display_name": "Python 3",
   "language": "python",
   "name": "python3"
  },
  "language_info": {
   "codemirror_mode": {
    "name": "ipython",
    "version": 3
   },
   "file_extension": ".py",
   "mimetype": "text/x-python",
   "name": "python",
   "nbconvert_exporter": "python",
   "pygments_lexer": "ipython3",
   "version": "3.7.4"
  }
 },
 "nbformat": 4,
 "nbformat_minor": 4
}
