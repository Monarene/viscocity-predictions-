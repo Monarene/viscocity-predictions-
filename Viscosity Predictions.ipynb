{
 "cells": [
  {
   "cell_type": "code",
   "execution_count": 15,
   "metadata": {},
   "outputs": [],
   "source": [
    "#importing the necessary libraries\n",
    "import pandas as pd\n",
    "import numpy as np\n",
    "import matplotlib.pyplot as plt\n",
    "import seaborn as sns\n",
    "\n",
    "from sklearn.ensemble import GradientBoostingRegressor, RandomForestRegressor, AdaBoostRegressor\n",
    "from sklearn.metrics import mean_squared_error, mean_absolute_error, r2_score\n",
    "\n",
    "from sklearn.model_selection import GridSearchCV\n",
    "from math import sqrt\n",
    "import pickle"
   ]
  },
  {
   "cell_type": "code",
   "execution_count": 16,
   "metadata": {},
   "outputs": [],
   "source": [
    "data = pd.read_csv('Data review - Sheet1.csv')"
   ]
  },
  {
   "cell_type": "code",
   "execution_count": 3,
   "metadata": {},
   "outputs": [
    {
     "data": {
      "text/html": [
       "<div>\n",
       "<style scoped>\n",
       "    .dataframe tbody tr th:only-of-type {\n",
       "        vertical-align: middle;\n",
       "    }\n",
       "\n",
       "    .dataframe tbody tr th {\n",
       "        vertical-align: top;\n",
       "    }\n",
       "\n",
       "    .dataframe thead th {\n",
       "        text-align: right;\n",
       "    }\n",
       "</style>\n",
       "<table border=\"1\" class=\"dataframe\">\n",
       "  <thead>\n",
       "    <tr style=\"text-align: right;\">\n",
       "      <th></th>\n",
       "      <th>Unnamed: 0</th>\n",
       "      <th>DEPTH (FT AH)</th>\n",
       "      <th>SG (Oil Gravity) @ 60/60F</th>\n",
       "      <th>API</th>\n",
       "      <th>Viscosity @ SC, cSt</th>\n",
       "      <th>Temp (deg F, res)</th>\n",
       "      <th>Viscosity @ RC, cp</th>\n",
       "      <th>Pressure</th>\n",
       "      <th>Uob, cp</th>\n",
       "      <th>Uo, cp</th>\n",
       "    </tr>\n",
       "  </thead>\n",
       "  <tbody>\n",
       "    <tr>\n",
       "      <th>0</th>\n",
       "      <td>NaN</td>\n",
       "      <td>6989</td>\n",
       "      <td>0.95</td>\n",
       "      <td>17.8</td>\n",
       "      <td>121.00</td>\n",
       "      <td>126</td>\n",
       "      <td>13.0</td>\n",
       "      <td>2890</td>\n",
       "      <td>14.0</td>\n",
       "      <td>14.0</td>\n",
       "    </tr>\n",
       "    <tr>\n",
       "      <th>1</th>\n",
       "      <td>NaN</td>\n",
       "      <td>6989</td>\n",
       "      <td>0.95</td>\n",
       "      <td>17.8</td>\n",
       "      <td>112.60</td>\n",
       "      <td>126</td>\n",
       "      <td>13.0</td>\n",
       "      <td>2890</td>\n",
       "      <td>14.0</td>\n",
       "      <td>14.0</td>\n",
       "    </tr>\n",
       "    <tr>\n",
       "      <th>2</th>\n",
       "      <td>NaN</td>\n",
       "      <td>6989</td>\n",
       "      <td>0.95</td>\n",
       "      <td>18.3</td>\n",
       "      <td>127.30</td>\n",
       "      <td>126</td>\n",
       "      <td>14.0</td>\n",
       "      <td>2890</td>\n",
       "      <td>15.0</td>\n",
       "      <td>15.0</td>\n",
       "    </tr>\n",
       "    <tr>\n",
       "      <th>3</th>\n",
       "      <td>NaN</td>\n",
       "      <td>6994</td>\n",
       "      <td>0.95</td>\n",
       "      <td>18.0</td>\n",
       "      <td>114.60</td>\n",
       "      <td>126</td>\n",
       "      <td>13.0</td>\n",
       "      <td>2890</td>\n",
       "      <td>14.0</td>\n",
       "      <td>14.0</td>\n",
       "    </tr>\n",
       "    <tr>\n",
       "      <th>4</th>\n",
       "      <td>NaN</td>\n",
       "      <td>6994</td>\n",
       "      <td>0.95</td>\n",
       "      <td>17.9</td>\n",
       "      <td>113.90</td>\n",
       "      <td>126</td>\n",
       "      <td>13.0</td>\n",
       "      <td>2890</td>\n",
       "      <td>14.0</td>\n",
       "      <td>14.0</td>\n",
       "    </tr>\n",
       "    <tr>\n",
       "      <th>...</th>\n",
       "      <td>...</td>\n",
       "      <td>...</td>\n",
       "      <td>...</td>\n",
       "      <td>...</td>\n",
       "      <td>...</td>\n",
       "      <td>...</td>\n",
       "      <td>...</td>\n",
       "      <td>...</td>\n",
       "      <td>...</td>\n",
       "      <td>...</td>\n",
       "    </tr>\n",
       "    <tr>\n",
       "      <th>357</th>\n",
       "      <td>NaN</td>\n",
       "      <td>9820</td>\n",
       "      <td>0.91</td>\n",
       "      <td>23.3</td>\n",
       "      <td>17.32</td>\n",
       "      <td>171</td>\n",
       "      <td>5.1</td>\n",
       "      <td>4200</td>\n",
       "      <td>11.0</td>\n",
       "      <td>25.0</td>\n",
       "    </tr>\n",
       "    <tr>\n",
       "      <th>358</th>\n",
       "      <td>NaN</td>\n",
       "      <td>9820</td>\n",
       "      <td>0.92</td>\n",
       "      <td>22.5</td>\n",
       "      <td>20.04</td>\n",
       "      <td>171</td>\n",
       "      <td>5.9</td>\n",
       "      <td>4200</td>\n",
       "      <td>12.0</td>\n",
       "      <td>28.0</td>\n",
       "    </tr>\n",
       "    <tr>\n",
       "      <th>359</th>\n",
       "      <td>NaN</td>\n",
       "      <td>10544</td>\n",
       "      <td>0.82</td>\n",
       "      <td>40.2</td>\n",
       "      <td>2.82</td>\n",
       "      <td>191</td>\n",
       "      <td>0.9</td>\n",
       "      <td>4500</td>\n",
       "      <td>2.1</td>\n",
       "      <td>6.7</td>\n",
       "    </tr>\n",
       "    <tr>\n",
       "      <th>360</th>\n",
       "      <td>NaN</td>\n",
       "      <td>10135</td>\n",
       "      <td>0.83</td>\n",
       "      <td>38.9</td>\n",
       "      <td>2.86</td>\n",
       "      <td>191</td>\n",
       "      <td>0.9</td>\n",
       "      <td>4500</td>\n",
       "      <td>1.0</td>\n",
       "      <td>1.2</td>\n",
       "    </tr>\n",
       "    <tr>\n",
       "      <th>361</th>\n",
       "      <td>NaN</td>\n",
       "      <td>10551</td>\n",
       "      <td>0.83</td>\n",
       "      <td>39.2</td>\n",
       "      <td>8.94</td>\n",
       "      <td>191</td>\n",
       "      <td>0.9</td>\n",
       "      <td>4500</td>\n",
       "      <td>2.0</td>\n",
       "      <td>12.8</td>\n",
       "    </tr>\n",
       "  </tbody>\n",
       "</table>\n",
       "<p>362 rows × 10 columns</p>\n",
       "</div>"
      ],
      "text/plain": [
       "     Unnamed: 0  DEPTH (FT AH)  SG (Oil Gravity) @ 60/60F   API  \\\n",
       "0           NaN           6989                       0.95  17.8   \n",
       "1           NaN           6989                       0.95  17.8   \n",
       "2           NaN           6989                       0.95  18.3   \n",
       "3           NaN           6994                       0.95  18.0   \n",
       "4           NaN           6994                       0.95  17.9   \n",
       "..          ...            ...                        ...   ...   \n",
       "357         NaN           9820                       0.91  23.3   \n",
       "358         NaN           9820                       0.92  22.5   \n",
       "359         NaN          10544                       0.82  40.2   \n",
       "360         NaN          10135                       0.83  38.9   \n",
       "361         NaN          10551                       0.83  39.2   \n",
       "\n",
       "     Viscosity @ SC, cSt  Temp (deg F, res)  Viscosity @ RC, cp  Pressure  \\\n",
       "0                 121.00                126                13.0      2890   \n",
       "1                 112.60                126                13.0      2890   \n",
       "2                 127.30                126                14.0      2890   \n",
       "3                 114.60                126                13.0      2890   \n",
       "4                 113.90                126                13.0      2890   \n",
       "..                   ...                ...                 ...       ...   \n",
       "357                17.32                171                 5.1      4200   \n",
       "358                20.04                171                 5.9      4200   \n",
       "359                 2.82                191                 0.9      4500   \n",
       "360                 2.86                191                 0.9      4500   \n",
       "361                 8.94                191                 0.9      4500   \n",
       "\n",
       "     Uob, cp  Uo, cp  \n",
       "0       14.0    14.0  \n",
       "1       14.0    14.0  \n",
       "2       15.0    15.0  \n",
       "3       14.0    14.0  \n",
       "4       14.0    14.0  \n",
       "..       ...     ...  \n",
       "357     11.0    25.0  \n",
       "358     12.0    28.0  \n",
       "359      2.1     6.7  \n",
       "360      1.0     1.2  \n",
       "361      2.0    12.8  \n",
       "\n",
       "[362 rows x 10 columns]"
      ]
     },
     "execution_count": 3,
     "metadata": {},
     "output_type": "execute_result"
    }
   ],
   "source": [
    "data"
   ]
  },
  {
   "cell_type": "code",
   "execution_count": 4,
   "metadata": {},
   "outputs": [
    {
     "data": {
      "text/plain": [
       "Index(['Unnamed: 0', 'DEPTH (FT AH)', 'SG (Oil Gravity) @ 60/60F', 'API',\n",
       "       'Viscosity @ SC, cSt', 'Temp (deg F, res)', 'Viscosity @ RC, cp',\n",
       "       'Pressure', 'Uob, cp', 'Uo, cp'],\n",
       "      dtype='object')"
      ]
     },
     "execution_count": 4,
     "metadata": {},
     "output_type": "execute_result"
    }
   ],
   "source": [
    "data.columns"
   ]
  },
  {
   "cell_type": "code",
   "execution_count": 5,
   "metadata": {},
   "outputs": [],
   "source": [
    "data = data.drop(['Unnamed: 0', 'Uo, cp'], axis = 1)"
   ]
  },
  {
   "cell_type": "code",
   "execution_count": 6,
   "metadata": {
    "scrolled": false
   },
   "outputs": [
    {
     "data": {
      "text/html": [
       "<div>\n",
       "<style scoped>\n",
       "    .dataframe tbody tr th:only-of-type {\n",
       "        vertical-align: middle;\n",
       "    }\n",
       "\n",
       "    .dataframe tbody tr th {\n",
       "        vertical-align: top;\n",
       "    }\n",
       "\n",
       "    .dataframe thead th {\n",
       "        text-align: right;\n",
       "    }\n",
       "</style>\n",
       "<table border=\"1\" class=\"dataframe\">\n",
       "  <thead>\n",
       "    <tr style=\"text-align: right;\">\n",
       "      <th></th>\n",
       "      <th>DEPTH (FT AH)</th>\n",
       "      <th>SG (Oil Gravity) @ 60/60F</th>\n",
       "      <th>API</th>\n",
       "      <th>Viscosity @ SC, cSt</th>\n",
       "      <th>Temp (deg F, res)</th>\n",
       "      <th>Viscosity @ RC, cp</th>\n",
       "      <th>Pressure</th>\n",
       "      <th>Uob, cp</th>\n",
       "    </tr>\n",
       "  </thead>\n",
       "  <tbody>\n",
       "    <tr>\n",
       "      <th>0</th>\n",
       "      <td>6989</td>\n",
       "      <td>0.95</td>\n",
       "      <td>17.8</td>\n",
       "      <td>121.00</td>\n",
       "      <td>126</td>\n",
       "      <td>13.0</td>\n",
       "      <td>2890</td>\n",
       "      <td>14.0</td>\n",
       "    </tr>\n",
       "    <tr>\n",
       "      <th>1</th>\n",
       "      <td>6989</td>\n",
       "      <td>0.95</td>\n",
       "      <td>17.8</td>\n",
       "      <td>112.60</td>\n",
       "      <td>126</td>\n",
       "      <td>13.0</td>\n",
       "      <td>2890</td>\n",
       "      <td>14.0</td>\n",
       "    </tr>\n",
       "    <tr>\n",
       "      <th>2</th>\n",
       "      <td>6989</td>\n",
       "      <td>0.95</td>\n",
       "      <td>18.3</td>\n",
       "      <td>127.30</td>\n",
       "      <td>126</td>\n",
       "      <td>14.0</td>\n",
       "      <td>2890</td>\n",
       "      <td>15.0</td>\n",
       "    </tr>\n",
       "    <tr>\n",
       "      <th>3</th>\n",
       "      <td>6994</td>\n",
       "      <td>0.95</td>\n",
       "      <td>18.0</td>\n",
       "      <td>114.60</td>\n",
       "      <td>126</td>\n",
       "      <td>13.0</td>\n",
       "      <td>2890</td>\n",
       "      <td>14.0</td>\n",
       "    </tr>\n",
       "    <tr>\n",
       "      <th>4</th>\n",
       "      <td>6994</td>\n",
       "      <td>0.95</td>\n",
       "      <td>17.9</td>\n",
       "      <td>113.90</td>\n",
       "      <td>126</td>\n",
       "      <td>13.0</td>\n",
       "      <td>2890</td>\n",
       "      <td>14.0</td>\n",
       "    </tr>\n",
       "    <tr>\n",
       "      <th>...</th>\n",
       "      <td>...</td>\n",
       "      <td>...</td>\n",
       "      <td>...</td>\n",
       "      <td>...</td>\n",
       "      <td>...</td>\n",
       "      <td>...</td>\n",
       "      <td>...</td>\n",
       "      <td>...</td>\n",
       "    </tr>\n",
       "    <tr>\n",
       "      <th>357</th>\n",
       "      <td>9820</td>\n",
       "      <td>0.91</td>\n",
       "      <td>23.3</td>\n",
       "      <td>17.32</td>\n",
       "      <td>171</td>\n",
       "      <td>5.1</td>\n",
       "      <td>4200</td>\n",
       "      <td>11.0</td>\n",
       "    </tr>\n",
       "    <tr>\n",
       "      <th>358</th>\n",
       "      <td>9820</td>\n",
       "      <td>0.92</td>\n",
       "      <td>22.5</td>\n",
       "      <td>20.04</td>\n",
       "      <td>171</td>\n",
       "      <td>5.9</td>\n",
       "      <td>4200</td>\n",
       "      <td>12.0</td>\n",
       "    </tr>\n",
       "    <tr>\n",
       "      <th>359</th>\n",
       "      <td>10544</td>\n",
       "      <td>0.82</td>\n",
       "      <td>40.2</td>\n",
       "      <td>2.82</td>\n",
       "      <td>191</td>\n",
       "      <td>0.9</td>\n",
       "      <td>4500</td>\n",
       "      <td>2.1</td>\n",
       "    </tr>\n",
       "    <tr>\n",
       "      <th>360</th>\n",
       "      <td>10135</td>\n",
       "      <td>0.83</td>\n",
       "      <td>38.9</td>\n",
       "      <td>2.86</td>\n",
       "      <td>191</td>\n",
       "      <td>0.9</td>\n",
       "      <td>4500</td>\n",
       "      <td>1.0</td>\n",
       "    </tr>\n",
       "    <tr>\n",
       "      <th>361</th>\n",
       "      <td>10551</td>\n",
       "      <td>0.83</td>\n",
       "      <td>39.2</td>\n",
       "      <td>8.94</td>\n",
       "      <td>191</td>\n",
       "      <td>0.9</td>\n",
       "      <td>4500</td>\n",
       "      <td>2.0</td>\n",
       "    </tr>\n",
       "  </tbody>\n",
       "</table>\n",
       "<p>362 rows × 8 columns</p>\n",
       "</div>"
      ],
      "text/plain": [
       "     DEPTH (FT AH)  SG (Oil Gravity) @ 60/60F   API  Viscosity @ SC, cSt  \\\n",
       "0             6989                       0.95  17.8               121.00   \n",
       "1             6989                       0.95  17.8               112.60   \n",
       "2             6989                       0.95  18.3               127.30   \n",
       "3             6994                       0.95  18.0               114.60   \n",
       "4             6994                       0.95  17.9               113.90   \n",
       "..             ...                        ...   ...                  ...   \n",
       "357           9820                       0.91  23.3                17.32   \n",
       "358           9820                       0.92  22.5                20.04   \n",
       "359          10544                       0.82  40.2                 2.82   \n",
       "360          10135                       0.83  38.9                 2.86   \n",
       "361          10551                       0.83  39.2                 8.94   \n",
       "\n",
       "     Temp (deg F, res)  Viscosity @ RC, cp  Pressure  Uob, cp  \n",
       "0                  126                13.0      2890     14.0  \n",
       "1                  126                13.0      2890     14.0  \n",
       "2                  126                14.0      2890     15.0  \n",
       "3                  126                13.0      2890     14.0  \n",
       "4                  126                13.0      2890     14.0  \n",
       "..                 ...                 ...       ...      ...  \n",
       "357                171                 5.1      4200     11.0  \n",
       "358                171                 5.9      4200     12.0  \n",
       "359                191                 0.9      4500      2.1  \n",
       "360                191                 0.9      4500      1.0  \n",
       "361                191                 0.9      4500      2.0  \n",
       "\n",
       "[362 rows x 8 columns]"
      ]
     },
     "execution_count": 6,
     "metadata": {},
     "output_type": "execute_result"
    }
   ],
   "source": [
    "data"
   ]
  },
  {
   "cell_type": "code",
   "execution_count": 7,
   "metadata": {},
   "outputs": [
    {
     "name": "stdout",
     "output_type": "stream",
     "text": [
      "The Values of the error of Prof's with respect to the Truth values varies as follows \n",
      " 1. Mean Squared Error 44.25302099447514 \n",
      " 2.Root Mean Squared Error 6.652294415799345 \n",
      " 3. Mean Absolute Error 4.085524861878453 \n",
      " 4. The R2 Score 0.5585219623674234\n"
     ]
    }
   ],
   "source": [
    "#now to find the original eror between Prof's method and machine learning method\n",
    "mse_pre =  mean_squared_error(data[\"Uob, cp\"].values, data[\"Viscosity @ RC, cp\"].values)\n",
    "mae_pre = mean_absolute_error(data[\"Uob, cp\"].values, data[\"Viscosity @ RC, cp\"].values)\n",
    "r2_pre = r2_score(data[\"Uob, cp\"].values, data[\"Viscosity @ RC, cp\"].values)\n",
    "rmse_pre = sqrt(mse_pre)\n",
    "\n",
    "print(f\"The Values of the error of Prof's with respect to the Truth values varies as follows \\n 1. Mean Squared Error {mse_pre} \\n 2.Root Mean Squared Error {rmse_pre} \\n 3. Mean Absolute Error {mae_pre} \\n 4. The R2 Score {r2_pre}\")"
   ]
  },
  {
   "cell_type": "code",
   "execution_count": 8,
   "metadata": {},
   "outputs": [
    {
     "data": {
      "text/plain": [
       "(362, 6)"
      ]
     },
     "execution_count": 8,
     "metadata": {},
     "output_type": "execute_result"
    }
   ],
   "source": [
    "#make a copy of the data, rewrite a Gradient boosting algorithm using Grid search and get the \n",
    "#results and use it to do machine learning \n",
    "dataset = data.copy()\n",
    "dataset = dataset.drop(\"Viscosity @ RC, cp\", axis = 1)\n",
    "y = dataset[\"Uob, cp\"].values\n",
    "X = dataset.drop('Uob, cp', axis = 1)\n",
    "X.shape"
   ]
  },
  {
   "cell_type": "code",
   "execution_count": 9,
   "metadata": {},
   "outputs": [],
   "source": [
    "estimator  = GradientBoostingRegressor(n_estimators = 120, random_state= 42)\n",
    "params  = {'n_estimators': np.arange(40, 300, 10), \"learning_rate\": np.arange(0.01, 0.1, 0.01), \"max_depth\" : [2, 3, 4, 5, 6, 7, 8, 9], \"min_samples_leaf\": np.arange(1, 10), \"max_features\": [2, 3, 0.5, 'auto','sqrt', 'log2', None]}"
   ]
  },
  {
   "cell_type": "code",
   "execution_count": 34,
   "metadata": {},
   "outputs": [
    {
     "data": {
      "text/plain": [
       "GridSearchCV(cv=5, error_score=nan,\n",
       "             estimator=GradientBoostingRegressor(alpha=0.9, ccp_alpha=0.0,\n",
       "                                                 criterion='friedman_mse',\n",
       "                                                 init=None, learning_rate=0.1,\n",
       "                                                 loss='ls', max_depth=3,\n",
       "                                                 max_features=None,\n",
       "                                                 max_leaf_nodes=None,\n",
       "                                                 min_impurity_decrease=0.0,\n",
       "                                                 min_impurity_split=None,\n",
       "                                                 min_samples_leaf=1,\n",
       "                                                 min_samples_split=2,\n",
       "                                                 min_weight_fraction_leaf=0.0,\n",
       "                                                 n_estimators=120,\n",
       "                                                 n_iter_n...\n",
       "                         'max_depth': [2, 3, 4, 5, 6, 7, 8, 9],\n",
       "                         'max_features': [2, 3, 0.5, 'auto', 'sqrt', 'log2',\n",
       "                                          None],\n",
       "                         'min_samples_leaf': array([1, 2, 3, 4, 5, 6, 7, 8, 9]),\n",
       "                         'n_estimators': array([ 40,  50,  60,  70,  80,  90, 100, 110, 120, 130, 140, 150, 160,\n",
       "       170, 180, 190, 200, 210, 220, 230, 240, 250, 260, 270, 280, 290])},\n",
       "             pre_dispatch='2*n_jobs', refit=True, return_train_score=False,\n",
       "             scoring='neg_mean_squared_error', verbose=0)"
      ]
     },
     "execution_count": 34,
     "metadata": {},
     "output_type": "execute_result"
    }
   ],
   "source": [
    "gridsearch = GridSearchCV(estimator=estimator, cv=5, param_grid = params, n_jobs = -1, scoring= \"neg_mean_squared_error\")\n",
    "gridsearch.fit(X, y)"
   ]
  },
  {
   "cell_type": "code",
   "execution_count": null,
   "metadata": {},
   "outputs": [],
   "source": [
    "gridsearch.best_params_"
   ]
  },
  {
   "cell_type": "code",
   "execution_count": 17,
   "metadata": {},
   "outputs": [
    {
     "data": {
      "text/plain": [
       "0.1266669995766966"
      ]
     },
     "execution_count": 17,
     "metadata": {},
     "output_type": "execute_result"
    }
   ],
   "source": [
    "mean_squared_error(y, gridsearch.predict(X))"
   ]
  },
  {
   "cell_type": "code",
   "execution_count": 21,
   "metadata": {},
   "outputs": [
    {
     "data": {
      "text/plain": [
       "array([14.31570935, 13.67934455, 14.989855  , 13.82979202, 13.82979202,\n",
       "       16.32850455, 11.5275945 , 14.98280909, 14.25134782, 13.71734709,\n",
       "       16.39094909, 20.14323595, 17.92373567, 20.97256562, 19.70512189,\n",
       "       27.59802207, 21.44813974, 33.29511178, 21.43306988, 27.37090144,\n",
       "       28.96725156, 28.44720414, 27.32053805, 26.0620343 , 28.64641993,\n",
       "       30.41181845, 30.90815054, 26.74487995, 27.13227382, 22.44103327,\n",
       "       22.49849717, 22.19179741, 23.55573122, 25.72538079, 25.69723157,\n",
       "       29.61047179, 17.31205374, 18.30653222, 18.4276121 ,  2.84258674,\n",
       "        3.08279661,  1.96943993,  2.57444684,  2.49462096,  2.88282083,\n",
       "        2.88282083,  2.71038647,  2.97641206,  3.43003243,  3.61722771,\n",
       "        3.66741164,  3.50617908,  3.48805455,  1.39219064,  1.32037921,\n",
       "        1.31415689,  1.33314418,  1.33314418,  1.33660407,  1.33314418,\n",
       "        1.34625998,  1.33314418,  1.33314418,  1.33314418,  1.33314418,\n",
       "        1.33314418,  1.1878935 ,  1.40113885,  1.32037921,  1.38235297,\n",
       "        1.33314418,  1.33314418,  1.33314418,  0.89777269,  1.02490531,\n",
       "        1.80642163, 14.5764284 , 12.15404996, 10.4411213 , 13.97612583,\n",
       "       14.59020534, 27.69789425, 24.83221782, 30.5814324 , 28.17920011,\n",
       "       28.96725156, 28.67222673, 31.1142122 , 21.29227956, 21.84256804,\n",
       "       19.76230702, 26.66984461, 31.99056324, 29.75891127, 20.26398324,\n",
       "       19.91817761, 19.93444353, 21.92714608, 20.45195665, 19.57853466,\n",
       "       19.33574182, 21.11099179, 20.94745113,  2.50527132,  2.26934545,\n",
       "        2.0361957 ,  2.19861882,  1.24938039,  1.10990924,  1.19918871,\n",
       "        1.15678466,  1.33349501,  1.16916291,  1.15566221,  1.31415689,\n",
       "        1.86732061,  1.26841023,  1.26841023,  1.36230442,  1.24325856,\n",
       "        1.24938039,  1.17896049,  1.17896049,  1.17896049,  1.09320665,\n",
       "        1.11555994,  0.42518505,  0.5223845 ,  0.70108558, 14.90368234,\n",
       "       11.6614781 , 14.56305771, 10.71774791, 38.06477425, 37.75386605,\n",
       "       31.64343684, 38.06477425, 53.31018532, 45.32028034, 45.13150205,\n",
       "       54.7082982 , 57.31056243, 15.22619707, 18.51345459, 22.48815657,\n",
       "       22.41650445,  0.39329311,  4.47506351,  4.48289994,  4.4163126 ,\n",
       "        4.33724731,  4.6373909 ,  4.33724731,  4.48289994,  4.48289994,\n",
       "        4.48289994,  4.4163126 ,  4.4163126 ,  4.48289994,  4.4163126 ,\n",
       "        4.43438667,  4.50097401,  4.24522874,  4.56258215,  5.02408199,\n",
       "       10.20535781, 10.82882719, 10.72923316,  1.38284626,  1.29526979,\n",
       "        1.31944571,  1.2372394 ,  1.28589925,  1.21211757,  1.31929164,\n",
       "        1.54590025,  1.3089802 ,  1.43233038,  1.33315613,  1.40114667,\n",
       "        1.33315613,  1.45708449,  1.23411699,  1.10097413,  1.42599766,\n",
       "        1.40665955,  1.64616815,  1.65721189,  1.50418493,  1.50372642,\n",
       "        1.6546068 ,  1.6500168 ,  1.65721189,  1.51616967,  1.61904266,\n",
       "        1.6500168 ,  1.72520657,  7.70382201,  1.65721189,  1.63433334,\n",
       "        1.55827799,  1.65721189,  8.75930654,  7.83738079,  8.07941581,\n",
       "        8.07941581,  8.82360331,  8.76763706,  7.82134637,  8.71399331,\n",
       "        7.78016849,  7.08018401,  8.7238186 ,  8.80949047,  8.549653  ,\n",
       "        7.38389212,  5.53821832,  5.98004236,  6.03368611,  5.00153365,\n",
       "        4.98508739,  3.58569359,  5.02827674,  5.34722938,  4.60456305,\n",
       "        4.60456305,  5.00153365,  5.00153365,  5.39252019, 14.03745916,\n",
       "       12.41196499, 14.92115238, 13.93106433, 12.94520725, 13.40941888,\n",
       "       13.96686353, 12.96991522, 15.58320254, 13.96686353, 13.96686353,\n",
       "       14.93275542, 13.99352893, 12.63402336, 13.47170874, 12.99422366,\n",
       "       15.85379808, 14.09072847, 13.97642219, 14.06102286, 13.97642219,\n",
       "       14.03745916, 13.93017984, 11.93153232, 13.92315288, 13.93106433,\n",
       "       13.96256383, 13.96256383, 13.96183252, 13.90819695, 12.98377358,\n",
       "       13.92315288, 13.87742876, 12.98377358, 14.06102286, 13.92315288,\n",
       "       14.74405746, 13.92315288, 13.96686353, 15.7238862 , 12.96991522,\n",
       "       13.96256383, 14.0471645 , 13.96256383, 13.96256383, 14.91889705,\n",
       "       13.96183252, 13.90819695, 13.90819695, 13.40941888, 13.86951731,\n",
       "       14.87606693, 14.82949777, 12.49656565, 14.87650858, 13.92315288,\n",
       "       16.17769311, 14.00775354, 14.00775354, 12.09333825, 14.8723279 ,\n",
       "       15.77005084, 13.96256383, 13.37446919, 14.91589187, 14.91589187,\n",
       "       14.93275542, 14.84815475, 13.96686353, 14.87002377, 14.02752607,\n",
       "       11.19560974,  1.38302125, 12.40612727, 15.86681885,  1.91571079,\n",
       "        1.03999277,  1.03999277,  0.99123738,  0.99123738,  1.01437652,\n",
       "        1.03999277,  1.03999277,  0.63493779,  1.07162056,  1.23209623,\n",
       "        1.03999277,  1.03999277,  1.03999277,  1.03999277,  0.98093872,\n",
       "        0.95554082,  1.19820207,  1.27122069,  1.25692137,  1.22710529,\n",
       "        1.22710529,  1.25692137,  1.25692137,  1.17280235,  1.20871727,\n",
       "        1.50089874,  1.31929164,  1.28792025,  1.23599938,  1.30558122,\n",
       "        1.38284626,  1.22529674,  1.22498735,  1.25598623,  1.24523207,\n",
       "        1.23971615,  1.42709477, 12.73613874, 12.10037959, 12.98377358,\n",
       "       11.96328162, 12.98377358, 12.99740683, 12.02102535, 11.9562364 ,\n",
       "       10.37960618,  8.54053193, 12.03636853,  9.16003898, 17.67954661,\n",
       "       11.22181208,  9.18393108, 11.22375552, 12.03636853,  2.04661283,\n",
       "        1.28859157,  2.30933239])"
      ]
     },
     "execution_count": 21,
     "metadata": {},
     "output_type": "execute_result"
    }
   ],
   "source": [
    "#These are the prediction for Gradient bosting \n",
    "predictions_grid  = gridsearch.predict(X)\n",
    "predictions_grid"
   ]
  },
  {
   "cell_type": "code",
   "execution_count": 40,
   "metadata": {},
   "outputs": [
    {
     "data": {
      "text/plain": [
       "GradientBoostingRegressor(alpha=0.9, ccp_alpha=0.0, criterion='friedman_mse',\n",
       "                          init=None, learning_rate=0.060000000000000005,\n",
       "                          loss='ls', max_depth=3, max_features=3,\n",
       "                          max_leaf_nodes=None, min_impurity_decrease=0.0,\n",
       "                          min_impurity_split=None, min_samples_leaf=3,\n",
       "                          min_samples_split=2, min_weight_fraction_leaf=0.0,\n",
       "                          n_estimators=290, n_iter_no_change=None,\n",
       "                          presort='deprecated', random_state=42, subsample=1.0,\n",
       "                          tol=0.0001, validation_fraction=0.1, verbose=0,\n",
       "                          warm_start=False)"
      ]
     },
     "execution_count": 40,
     "metadata": {},
     "output_type": "execute_result"
    }
   ],
   "source": [
    "gridsearch.best_estimator_"
   ]
  },
  {
   "cell_type": "code",
   "execution_count": 41,
   "metadata": {},
   "outputs": [
    {
     "data": {
      "text/plain": [
       "GridSearchCV(cv=5, error_score=nan,\n",
       "             estimator=GradientBoostingRegressor(alpha=0.9, ccp_alpha=0.0,\n",
       "                                                 criterion='friedman_mse',\n",
       "                                                 init=None, learning_rate=0.1,\n",
       "                                                 loss='ls', max_depth=3,\n",
       "                                                 max_features=None,\n",
       "                                                 max_leaf_nodes=None,\n",
       "                                                 min_impurity_decrease=0.0,\n",
       "                                                 min_impurity_split=None,\n",
       "                                                 min_samples_leaf=1,\n",
       "                                                 min_samples_split=2,\n",
       "                                                 min_weight_fraction_leaf=0.0,\n",
       "                                                 n_estimators=120,\n",
       "                                                 n_iter_n...\n",
       "                         'max_depth': [2, 3, 4, 5, 6, 7, 8, 9],\n",
       "                         'max_features': [2, 3, 0.5, 'auto', 'sqrt', 'log2',\n",
       "                                          None],\n",
       "                         'min_samples_leaf': array([1, 2, 3, 4, 5, 6, 7, 8, 9]),\n",
       "                         'n_estimators': array([ 40,  50,  60,  70,  80,  90, 100, 110, 120, 130, 140, 150, 160,\n",
       "       170, 180, 190, 200, 210, 220, 230, 240, 250, 260, 270, 280, 290])},\n",
       "             pre_dispatch='2*n_jobs', refit=True, return_train_score=False,\n",
       "             scoring='neg_mean_squared_error', verbose=0)"
      ]
     },
     "execution_count": 41,
     "metadata": {},
     "output_type": "execute_result"
    }
   ],
   "source": [
    "gridsearch"
   ]
  },
  {
   "cell_type": "code",
   "execution_count": 42,
   "metadata": {},
   "outputs": [],
   "source": [
    "#saving the model in a pickle file\n",
    "file_name = \"grad_boost.pkl\"\n",
    "with open(file_name, 'wb') as file:\n",
    "    pickle.dump(gridsearch.best_estimator_, file)"
   ]
  },
  {
   "cell_type": "code",
   "execution_count": 11,
   "metadata": {},
   "outputs": [
    {
     "name": "stdout",
     "output_type": "stream",
     "text": [
      "The Values of the error of Gradient Boosting with respect to the Truth values varies as follows \n",
      " 1. Mean Squared Error 0.1266669995766966 \n",
      " 2.Root Mean Squared Error 0.3559030760989523 \n",
      " 3. Mean Absolute Error 0.23132209008488908 \n",
      " 4. The R2 Score 0.9987363416745513\n"
     ]
    }
   ],
   "source": [
    "#loading and predicting the model\n",
    "gridsearch =  pickle.load(open(\"grad_boost.pkl\", \"rb\"))\n",
    "mse_grid = mean_squared_error(y, gridsearch.predict(X))\n",
    "rmse_grid = sqrt(mse_grid)\n",
    "mae_grid = mean_absolute_error(y, gridsearch.predict(X))\n",
    "r2_grid = r2_score(y, gridsearch.predict(X))\n",
    "print(f\"The Values of the error of Gradient Boosting with respect to the Truth values varies as follows \\n 1. Mean Squared Error {mse_grid} \\n 2.Root Mean Squared Error {rmse_grid} \\n 3. Mean Absolute Error {mae_grid} \\n 4. The R2 Score {r2_grid}\")"
   ]
  },
  {
   "cell_type": "code",
   "execution_count": 14,
   "metadata": {},
   "outputs": [
    {
     "data": {
      "text/plain": [
       "GridSearchCV(cv=5, error_score=nan,\n",
       "             estimator=RandomForestRegressor(bootstrap=True, ccp_alpha=0.0,\n",
       "                                             criterion='mse', max_depth=None,\n",
       "                                             max_features='auto',\n",
       "                                             max_leaf_nodes=None,\n",
       "                                             max_samples=None,\n",
       "                                             min_impurity_decrease=0.0,\n",
       "                                             min_impurity_split=None,\n",
       "                                             min_samples_leaf=1,\n",
       "                                             min_samples_split=2,\n",
       "                                             min_weight_fraction_leaf=0.0,\n",
       "                                             n_estimators=100, n_jobs=None,\n",
       "                                             oob_score=False, rand...\n",
       "             param_grid={'max_depth': [2, 3, 4, 5, 6, 7, 8, 9],\n",
       "                         'max_features': [2, 3, 0.5, 'auto', 'sqrt', 'log2',\n",
       "                                          None],\n",
       "                         'min_samples_leaf': array([1, 2, 3, 4, 5, 6, 7, 8, 9]),\n",
       "                         'n_estimators': array([ 40,  50,  60,  70,  80,  90, 100, 110, 120, 130, 140, 150, 160,\n",
       "       170, 180, 190, 200, 210, 220, 230, 240, 250, 260, 270, 280, 290])},\n",
       "             pre_dispatch='2*n_jobs', refit=True, return_train_score=False,\n",
       "             scoring='neg_mean_squared_error', verbose=0)"
      ]
     },
     "execution_count": 14,
     "metadata": {},
     "output_type": "execute_result"
    }
   ],
   "source": [
    "#now to prepare a RandomForest regressor\n",
    "params_rf  = {'n_estimators': np.arange(40, 300, 10), \"max_depth\" : [2, 3, 4, 5, 6, 7, 8, 9], \"min_samples_leaf\": np.arange(1, 10), \"max_features\": [2, 3, 0.5, 'auto','sqrt', 'log2', None]}\n",
    "estimator_rf = RandomForestRegressor(random_state = 42)\n",
    "gridsearch_rf = GridSearchCV(estimator=estimator_rf, cv=5, param_grid = params_rf, n_jobs = -1, scoring= \"neg_mean_squared_error\")\n",
    "gridsearch_rf.fit(X, y)"
   ]
  },
  {
   "cell_type": "code",
   "execution_count": 15,
   "metadata": {},
   "outputs": [
    {
     "data": {
      "text/plain": [
       "{'max_depth': 8, 'max_features': 2, 'min_samples_leaf': 1, 'n_estimators': 40}"
      ]
     },
     "execution_count": 15,
     "metadata": {},
     "output_type": "execute_result"
    }
   ],
   "source": [
    "#now to get the best params\n",
    "gridsearch_rf.best_params_"
   ]
  },
  {
   "cell_type": "code",
   "execution_count": null,
   "metadata": {},
   "outputs": [],
   "source": [
    "#saving model and loading into the disk space\n",
    "file_name = \"random_forest.pkl\"\n",
    "with open(file_name, 'wb') as file:\n",
    "    pickle.dump(gridsearch_rf.best_estimator_, file)"
   ]
  },
  {
   "cell_type": "code",
   "execution_count": 24,
   "metadata": {},
   "outputs": [
    {
     "name": "stdout",
     "output_type": "stream",
     "text": [
      "The Values of the error of Random Forest with respect to the Truth values varies as follows \n",
      " 1. Mean Squared Error 0.46617794315047945 \n",
      " 2. Root Mean Squared Error 0.6827722483745802 \n",
      " 3. Mean Absolute Error 0.328511503365855 \n",
      " 4. The R2 Score 0.9953493045467934\n"
     ]
    }
   ],
   "source": [
    "#loading and predicting the model\n",
    "gridsearch_rf =  pickle.load(open(\"random_foreest.pkl\", \"rb\"))\n",
    "mse_forest = mean_squared_error(y, gridsearch_rf.predict(X))\n",
    "rmse_forest = sqrt(mse_forest)\n",
    "mae_forest = mean_absolute_error(y, gridsearch_rf.predict(X))\n",
    "r2_forest = r2_score(y, gridsearch_rf.predict(X))\n",
    "print(f\"The Values of the error of Random Forest with respect to the Truth values varies as follows \\n 1. Mean Squared Error {mse_forest} \\n 2. Root Mean Squared Error {rmse_forest} \\n 3. Mean Absolute Error {mae_forest} \\n 4. The R2 Score {r2_forest}\")"
   ]
  },
  {
   "cell_type": "code",
   "execution_count": 28,
   "metadata": {},
   "outputs": [],
   "source": [
    "predictions_random = gridsearch_rf.predict(X)"
   ]
  },
  {
   "cell_type": "code",
   "execution_count": 14,
   "metadata": {},
   "outputs": [
    {
     "data": {
      "text/plain": [
       "<matplotlib.axes._subplots.AxesSubplot at 0x7f276bf7d850>"
      ]
     },
     "execution_count": 14,
     "metadata": {},
     "output_type": "execute_result"
    },
    {
     "data": {
      "image/png": "[encoded data removed]",
      "text/plain": [
       "<Figure size 432x288 with 1 Axes>"
      ]
     },
     "metadata": {
      "needs_background": "light"
     },
     "output_type": "display_data"
    }
   ],
   "source": [
    "#let us try to visualize the most important features\n",
    "feat_importances = pd.Series(gridsearch_rf.feature_importances_, index=X.columns)\n",
    "feat_importances.nlargest(6).plot(kind='barh')"
   ]
  },
  {
   "cell_type": "code",
   "execution_count": 19,
   "metadata": {},
   "outputs": [],
   "source": [
    "# Extract the small tree\n",
    "import pydot\n",
    "tree_small = gridsearch_rf.estimators_[5]\n",
    "# Save the tree as a png image\n",
    "export_graphviz(tree_small, out_file = 'small_tree.dot', feature_names = X.columns, rounded = True, precision = 1)\n",
    "(graph, ) = pydot.graph_from_dot_file('small_tree.dot')\n",
    "graph.write_png('small_tree.png');"
   ]
  },
  {
   "cell_type": "code",
   "execution_count": 21,
   "metadata": {},
   "outputs": [
    {
     "data": {
      "text/plain": [
       "GridSearchCV(cv=5, error_score=nan,\n",
       "             estimator=AdaBoostRegressor(base_estimator=None, learning_rate=1.0,\n",
       "                                         loss='linear', n_estimators=50,\n",
       "                                         random_state=42),\n",
       "             iid='deprecated', n_jobs=-1,\n",
       "             param_grid={'learning_rate': array([0.01, 0.02, 0.03, 0.04, 0.05, 0.06, 0.07, 0.08, 0.09]),\n",
       "                         'loss': ['linear', 'square', 'exponential'],\n",
       "                         'n_estimators': array([ 40,  50,  60,  70,  80,  90, 100, 110, 120, 130, 140, 150, 160,\n",
       "       170, 180, 190, 200, 210, 220, 230, 240, 250, 260, 270, 280, 290])},\n",
       "             pre_dispatch='2*n_jobs', refit=True, return_train_score=False,\n",
       "             scoring='neg_mean_squared_error', verbose=0)"
      ]
     },
     "execution_count": 21,
     "metadata": {},
     "output_type": "execute_result"
    }
   ],
   "source": [
    "#now to prepare AdaBoost\n",
    "estimator_ada = AdaBoostRegressor(random_state = 42)\n",
    "params_ada = {'n_estimators': np.arange(40, 300, 10), \"learning_rate\": np.arange(0.01, 0.1, 0.01), \"loss\": [\"linear\", \"square\", \"exponential\"]}\n",
    "gridsearch_ada = GridSearchCV(estimator=estimator_ada, cv=5, param_grid = params_ada, n_jobs = -1, scoring= \"neg_mean_squared_error\")\n",
    "gridsearch_ada.fit(X, y)"
   ]
  },
  {
   "cell_type": "code",
   "execution_count": 22,
   "metadata": {},
   "outputs": [
    {
     "data": {
      "text/plain": [
       "{'learning_rate': 0.05, 'loss': 'linear', 'n_estimators': 40}"
      ]
     },
     "execution_count": 22,
     "metadata": {},
     "output_type": "execute_result"
    }
   ],
   "source": [
    "gridsearch_ada.best_params_"
   ]
  },
  {
   "cell_type": "code",
   "execution_count": null,
   "metadata": {},
   "outputs": [],
   "source": [
    "#saving model and loading into the disk space\n",
    "file_name = \"ada_boost.pkl\"\n",
    "with open(file_name, 'wb') as file:\n",
    "    pickle.dump(gridsearch_ada.best_estimator_, file)"
   ]
  },
  {
   "cell_type": "code",
   "execution_count": 25,
   "metadata": {},
   "outputs": [
    {
     "name": "stdout",
     "output_type": "stream",
     "text": [
      "The Values of the error of Adaptive Boosting(AdaBoost) with respect to the Truth values varies as follows \n",
      " 1. Mean Squared Error 5.0497814801721335 \n",
      " 2. Root Mean Squared Error 2.247171884874883 \n",
      " 3. Mean Absolute Error 1.4238424352112078 \n",
      " 4. The R2 Score 0.9496222502274353\n"
     ]
    }
   ],
   "source": [
    "#loading and predicting the model\n",
    "gridsearch_ada =  pickle.load(open(\"ada_boost.pkl\", \"rb\"))\n",
    "mse_ada = mean_squared_error(y, gridsearch_ada.predict(X))\n",
    "rmse_ada = sqrt(mse_ada)\n",
    "mae_ada = mean_absolute_error(y, gridsearch_ada.predict(X))\n",
    "r2_ada = r2_score(y, gridsearch_ada.predict(X))\n",
    "print(f\"The Values of the error of Adaptive Boosting(AdaBoost) with respect to the Truth values varies as follows \\n 1. Mean Squared Error {mse_ada} \\n 2. Root Mean Squared Error {rmse_ada} \\n 3. Mean Absolute Error {mae_ada} \\n 4. The R2 Score {r2_ada}\")"
   ]
  },
  {
   "cell_type": "code",
   "execution_count": 26,
   "metadata": {},
   "outputs": [],
   "source": [
    "predictions_ada = gridsearch_ada.predict(X)"
   ]
  },
  {
   "cell_type": "code",
   "execution_count": 27,
   "metadata": {},
   "outputs": [],
   "source": [
    "data[\"Gradient Boost Predictions\"] = predictions_grid"
   ]
  },
  {
   "cell_type": "code",
   "execution_count": 29,
   "metadata": {},
   "outputs": [],
   "source": [
    "data[\"Random Forest Predictions\"] = predictions_random\n",
    "data[\"Adaptive Boost Predictions\"] = predictions_ada"
   ]
  },
  {
   "cell_type": "code",
   "execution_count": 30,
   "metadata": {},
   "outputs": [
    {
     "data": {
      "text/html": [
       "<div>\n",
       "<style scoped>\n",
       "    .dataframe tbody tr th:only-of-type {\n",
       "        vertical-align: middle;\n",
       "    }\n",
       "\n",
       "    .dataframe tbody tr th {\n",
       "        vertical-align: top;\n",
       "    }\n",
       "\n",
       "    .dataframe thead th {\n",
       "        text-align: right;\n",
       "    }\n",
       "</style>\n",
       "<table border=\"1\" class=\"dataframe\">\n",
       "  <thead>\n",
       "    <tr style=\"text-align: right;\">\n",
       "      <th></th>\n",
       "      <th>Unnamed: 0</th>\n",
       "      <th>DEPTH (FT AH)</th>\n",
       "      <th>SG (Oil Gravity) @ 60/60F</th>\n",
       "      <th>API</th>\n",
       "      <th>Viscosity @ SC, cSt</th>\n",
       "      <th>Temp (deg F, res)</th>\n",
       "      <th>Viscosity @ RC, cp</th>\n",
       "      <th>Pressure</th>\n",
       "      <th>Uob, cp</th>\n",
       "      <th>Uo, cp</th>\n",
       "      <th>Gradient Boost Predictions</th>\n",
       "      <th>Random Forest Predictions</th>\n",
       "      <th>Adaptive Boost Predictions</th>\n",
       "    </tr>\n",
       "  </thead>\n",
       "  <tbody>\n",
       "    <tr>\n",
       "      <th>0</th>\n",
       "      <td>NaN</td>\n",
       "      <td>6989</td>\n",
       "      <td>0.95</td>\n",
       "      <td>17.8</td>\n",
       "      <td>121.0</td>\n",
       "      <td>126</td>\n",
       "      <td>13.0</td>\n",
       "      <td>2890</td>\n",
       "      <td>14.0</td>\n",
       "      <td>14.0</td>\n",
       "      <td>14.315709</td>\n",
       "      <td>14.585972</td>\n",
       "      <td>15.529412</td>\n",
       "    </tr>\n",
       "    <tr>\n",
       "      <th>1</th>\n",
       "      <td>NaN</td>\n",
       "      <td>6989</td>\n",
       "      <td>0.95</td>\n",
       "      <td>17.8</td>\n",
       "      <td>112.6</td>\n",
       "      <td>126</td>\n",
       "      <td>13.0</td>\n",
       "      <td>2890</td>\n",
       "      <td>14.0</td>\n",
       "      <td>14.0</td>\n",
       "      <td>13.679345</td>\n",
       "      <td>14.255913</td>\n",
       "      <td>15.352941</td>\n",
       "    </tr>\n",
       "    <tr>\n",
       "      <th>2</th>\n",
       "      <td>NaN</td>\n",
       "      <td>6989</td>\n",
       "      <td>0.95</td>\n",
       "      <td>18.3</td>\n",
       "      <td>127.3</td>\n",
       "      <td>126</td>\n",
       "      <td>14.0</td>\n",
       "      <td>2890</td>\n",
       "      <td>15.0</td>\n",
       "      <td>15.0</td>\n",
       "      <td>14.989855</td>\n",
       "      <td>14.602083</td>\n",
       "      <td>15.533333</td>\n",
       "    </tr>\n",
       "    <tr>\n",
       "      <th>3</th>\n",
       "      <td>NaN</td>\n",
       "      <td>6994</td>\n",
       "      <td>0.95</td>\n",
       "      <td>18.0</td>\n",
       "      <td>114.6</td>\n",
       "      <td>126</td>\n",
       "      <td>13.0</td>\n",
       "      <td>2890</td>\n",
       "      <td>14.0</td>\n",
       "      <td>14.0</td>\n",
       "      <td>13.829792</td>\n",
       "      <td>14.249454</td>\n",
       "      <td>15.529412</td>\n",
       "    </tr>\n",
       "    <tr>\n",
       "      <th>4</th>\n",
       "      <td>NaN</td>\n",
       "      <td>6994</td>\n",
       "      <td>0.95</td>\n",
       "      <td>17.9</td>\n",
       "      <td>113.9</td>\n",
       "      <td>126</td>\n",
       "      <td>13.0</td>\n",
       "      <td>2890</td>\n",
       "      <td>14.0</td>\n",
       "      <td>14.0</td>\n",
       "      <td>13.829792</td>\n",
       "      <td>14.249454</td>\n",
       "      <td>15.529412</td>\n",
       "    </tr>\n",
       "  </tbody>\n",
       "</table>\n",
       "</div>"
      ],
      "text/plain": [
       "   Unnamed: 0  DEPTH (FT AH)  SG (Oil Gravity) @ 60/60F   API  \\\n",
       "0         NaN           6989                       0.95  17.8   \n",
       "1         NaN           6989                       0.95  17.8   \n",
       "2         NaN           6989                       0.95  18.3   \n",
       "3         NaN           6994                       0.95  18.0   \n",
       "4         NaN           6994                       0.95  17.9   \n",
       "\n",
       "   Viscosity @ SC, cSt  Temp (deg F, res)  Viscosity @ RC, cp  Pressure  \\\n",
       "0                121.0                126                13.0      2890   \n",
       "1                112.6                126                13.0      2890   \n",
       "2                127.3                126                14.0      2890   \n",
       "3                114.6                126                13.0      2890   \n",
       "4                113.9                126                13.0      2890   \n",
       "\n",
       "   Uob, cp  Uo, cp  Gradient Boost Predictions  Random Forest Predictions  \\\n",
       "0     14.0    14.0                   14.315709                  14.585972   \n",
       "1     14.0    14.0                   13.679345                  14.255913   \n",
       "2     15.0    15.0                   14.989855                  14.602083   \n",
       "3     14.0    14.0                   13.829792                  14.249454   \n",
       "4     14.0    14.0                   13.829792                  14.249454   \n",
       "\n",
       "   Adaptive Boost Predictions  \n",
       "0                   15.529412  \n",
       "1                   15.352941  \n",
       "2                   15.533333  \n",
       "3                   15.529412  \n",
       "4                   15.529412  "
      ]
     },
     "execution_count": 30,
     "metadata": {},
     "output_type": "execute_result"
    }
   ],
   "source": [
    "data.head()"
   ]
  },
  {
   "cell_type": "code",
   "execution_count": 32,
   "metadata": {},
   "outputs": [
    {
     "name": "stdout",
     "output_type": "stream",
     "text": [
      "Collecting openpyxl\n",
      "  Downloading openpyxl-3.0.3.tar.gz (172 kB)\n",
      "\u001b[K     |████████████████████████████████| 172 kB 16 kB/s eta 0:00:01\n",
      "\u001b[?25hCollecting jdcal\n",
      "  Downloading jdcal-1.4.1-py2.py3-none-any.whl (9.5 kB)\n",
      "Collecting et_xmlfile\n",
      "  Downloading et_xmlfile-1.0.1.tar.gz (8.4 kB)\n",
      "Building wheels for collected packages: openpyxl, et-xmlfile\n",
      "  Building wheel for openpyxl (setup.py) ... \u001b[?25ldone\n",
      "\u001b[?25h  Created wheel for openpyxl: filename=openpyxl-3.0.3-py2.py3-none-any.whl size=241262 sha256=b3b131be691228f4c580889756d7be7407b3dc781c33db6e6e29d2bc022a7e9f\n",
      "  Stored in directory: /home/michael/.cache/pip/wheels/5b/c0/e7/e16d3916984addf40bd021fa98d1624cb24a9adc48da4e62b5\n",
      "  Building wheel for et-xmlfile (setup.py) ... \u001b[?25ldone\n",
      "\u001b[?25h  Created wheel for et-xmlfile: filename=et_xmlfile-1.0.1-py3-none-any.whl size=8915 sha256=06dc942e2c1dbc1d17b852e74b9ecb77133f55c9d029007c86ae8cefe09ab3a5\n",
      "  Stored in directory: /home/michael/.cache/pip/wheels/e2/bd/55/048b4fd505716c4c298f42ee02dffd9496bb6d212b266c7f31\n",
      "Successfully built openpyxl et-xmlfile\n",
      "Installing collected packages: jdcal, et-xmlfile, openpyxl\n",
      "Successfully installed et-xmlfile-1.0.1 jdcal-1.4.1 openpyxl-3.0.3\n"
     ]
    }
   ],
   "source": [
    "!pip install openpyxl\n",
    "data.to_excel(\"Final Predicted values.xlsx\")"
   ]
  },
  {
   "cell_type": "code",
   "execution_count": null,
   "metadata": {},
   "outputs": [],
   "source": []
  }
 ],
 "metadata": {
  "kernelspec": {
   "display_name": "Python 3",
   "language": "python",
   "name": "python3"
  },
  "language_info": {
   "codemirror_mode": {
    "name": "ipython",
    "version": 3
   },
   "file_extension": ".py",
   "mimetype": "text/x-python",
   "name": "python",
   "nbconvert_exporter": "python",
   "pygments_lexer": "ipython3",
   "version": "3.7.4"
  }
 },
 "nbformat": 4,
 "nbformat_minor": 4
}
